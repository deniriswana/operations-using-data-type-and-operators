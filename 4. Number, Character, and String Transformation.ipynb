{
  "nbformat": 4,
  "nbformat_minor": 0,
  "metadata": {
    "colab": {
      "name": "4. Number, Character, and String Transformation.ipynb",
      "provenance": [],
      "collapsed_sections": [],
      "authorship_tag": "ABX9TyOBiocx4Pq3JREnF+w35iKg"
    },
    "kernelspec": {
      "name": "python3",
      "display_name": "Python 3"
    },
    "language_info": {
      "name": "python"
    }
  },
  "cells": [
    {
      "cell_type": "markdown",
      "source": [
        "## Uppercase and Lowercase"
      ],
      "metadata": {
        "id": "18T1smhZV5dR"
      }
    },
    {
      "cell_type": "markdown",
      "source": [
        "### upper()\n",
        "upper() is a built-in method used for string handling. The upper() methods returns the uppercased string from the given string. It converts all lowercase characters to uppercase. If no lowercase characters exist, it returns the original string."
      ],
      "metadata": {
        "id": "UQ2aLED1WD3g"
      }
    },
    {
      "cell_type": "code",
      "source": [
        "program_study =\"Data Engineer\""
      ],
      "metadata": {
        "id": "MyxcerPZWHb9"
      },
      "execution_count": null,
      "outputs": []
    },
    {
      "cell_type": "code",
      "source": [
        "program_study.upper()"
      ],
      "metadata": {
        "colab": {
          "base_uri": "https://localhost:8080/",
          "height": 35
        },
        "id": "ImzEbBTnWTW2",
        "outputId": "d7b34f28-3ff2-4098-8643-cf10cc853cc4"
      },
      "execution_count": null,
      "outputs": [
        {
          "output_type": "execute_result",
          "data": {
            "text/plain": [
              "'DATA ENGINEER'"
            ],
            "application/vnd.google.colaboratory.intrinsic+json": {
              "type": "string"
            }
          },
          "metadata": {},
          "execution_count": 3
        }
      ]
    },
    {
      "cell_type": "markdown",
      "source": [
        "### lower()\n",
        "lower() is a built-in method used for string handling. The lower() methods returns the lowercased string from the given string. It converts all uppercase characters to lowercase. If no uppercase characters exist, it returns the original string."
      ],
      "metadata": {
        "id": "Ioej77mAWqQ1"
      }
    },
    {
      "cell_type": "code",
      "source": [
        "study = \"Data Science\""
      ],
      "metadata": {
        "id": "XJCC4RF6Wx4E"
      },
      "execution_count": null,
      "outputs": []
    },
    {
      "cell_type": "code",
      "source": [
        "study.lower()"
      ],
      "metadata": {
        "colab": {
          "base_uri": "https://localhost:8080/",
          "height": 35
        },
        "id": "RhI4nz_PW1ha",
        "outputId": "4e5c2fd7-fb52-4ed2-9d41-dba57105f42e"
      },
      "execution_count": null,
      "outputs": [
        {
          "output_type": "execute_result",
          "data": {
            "text/plain": [
              "'data science'"
            ],
            "application/vnd.google.colaboratory.intrinsic+json": {
              "type": "string"
            }
          },
          "metadata": {},
          "execution_count": 5
        }
      ]
    },
    {
      "cell_type": "markdown",
      "source": [
        "## Prefix and Suffix"
      ],
      "metadata": {
        "id": "CnZHXlz2W7XM"
      }
    },
    {
      "cell_type": "markdown",
      "source": [
        "### rstrip()\n",
        "remove any white spaces at the end of the string"
      ],
      "metadata": {
        "id": "rU8i1ustXjOK"
      }
    },
    {
      "cell_type": "code",
      "source": [
        "a =\"Data    \""
      ],
      "metadata": {
        "id": "n3vwuacAXpES"
      },
      "execution_count": null,
      "outputs": []
    },
    {
      "cell_type": "code",
      "source": [
        "a.rstrip()"
      ],
      "metadata": {
        "colab": {
          "base_uri": "https://localhost:8080/",
          "height": 35
        },
        "id": "5_rltppzXttl",
        "outputId": "232076c8-349e-4887-8eb6-22a92063bd1d"
      },
      "execution_count": null,
      "outputs": [
        {
          "output_type": "execute_result",
          "data": {
            "text/plain": [
              "'Data'"
            ],
            "application/vnd.google.colaboratory.intrinsic+json": {
              "type": "string"
            }
          },
          "metadata": {},
          "execution_count": 8
        }
      ]
    },
    {
      "cell_type": "markdown",
      "source": [
        "### lstrip()\n",
        "remove spaces to the left of the string"
      ],
      "metadata": {
        "id": "8KQP-UydXyWh"
      }
    },
    {
      "cell_type": "code",
      "source": [
        "a =\"     Data\""
      ],
      "metadata": {
        "id": "O5UDeOYhX4c4"
      },
      "execution_count": null,
      "outputs": []
    },
    {
      "cell_type": "code",
      "source": [
        "a.lstrip()"
      ],
      "metadata": {
        "colab": {
          "base_uri": "https://localhost:8080/",
          "height": 35
        },
        "id": "RDGCrmYEX-E1",
        "outputId": "deb2e9a8-c379-4af9-95d5-3ae05c9dc3d5"
      },
      "execution_count": null,
      "outputs": [
        {
          "output_type": "execute_result",
          "data": {
            "text/plain": [
              "'Data'"
            ],
            "application/vnd.google.colaboratory.intrinsic+json": {
              "type": "string"
            }
          },
          "metadata": {},
          "execution_count": 10
        }
      ]
    },
    {
      "cell_type": "markdown",
      "source": [
        "### strip()\n",
        "strip() can also specify which characters or sections you want to remove"
      ],
      "metadata": {
        "id": "g5KxnGalgwyF"
      }
    },
    {
      "cell_type": "code",
      "execution_count": null,
      "metadata": {
        "id": "G8d4V6MIggwD"
      },
      "outputs": [],
      "source": [
        "a =\"DataScienceData\""
      ]
    },
    {
      "cell_type": "code",
      "source": [
        "a"
      ],
      "metadata": {
        "colab": {
          "base_uri": "https://localhost:8080/",
          "height": 35
        },
        "id": "ncEWYtW2g_Us",
        "outputId": "f2dec786-d182-45ee-ab14-fec2ef549950"
      },
      "execution_count": null,
      "outputs": [
        {
          "output_type": "execute_result",
          "data": {
            "text/plain": [
              "'DataScienceData'"
            ],
            "application/vnd.google.colaboratory.intrinsic+json": {
              "type": "string"
            }
          },
          "metadata": {},
          "execution_count": 2
        }
      ]
    },
    {
      "cell_type": "code",
      "source": [
        "a.strip('data')"
      ],
      "metadata": {
        "colab": {
          "base_uri": "https://localhost:8080/",
          "height": 35
        },
        "id": "diQ1nPvkhBJ6",
        "outputId": "fa3691f3-c220-4e2f-feba-3df56d077db3"
      },
      "execution_count": null,
      "outputs": [
        {
          "output_type": "execute_result",
          "data": {
            "text/plain": [
              "'DataScienceD'"
            ],
            "application/vnd.google.colaboratory.intrinsic+json": {
              "type": "string"
            }
          },
          "metadata": {},
          "execution_count": 3
        }
      ]
    },
    {
      "cell_type": "markdown",
      "source": [
        "### startwith()\n",
        "The startwith() method will return True if the string starts with the word we want, otherwise it will return False."
      ],
      "metadata": {
        "id": "YWsg8kdYhSZ9"
      }
    },
    {
      "cell_type": "code",
      "source": [
        "a = \"Data Science\""
      ],
      "metadata": {
        "id": "rg9Bw0H4ihja"
      },
      "execution_count": null,
      "outputs": []
    },
    {
      "cell_type": "code",
      "source": [
        "a.startswith(\"Science\")"
      ],
      "metadata": {
        "colab": {
          "base_uri": "https://localhost:8080/"
        },
        "id": "GSYEHEuEhcXq",
        "outputId": "923378b3-d641-4d20-8590-78770f835f83"
      },
      "execution_count": null,
      "outputs": [
        {
          "output_type": "execute_result",
          "data": {
            "text/plain": [
              "False"
            ]
          },
          "metadata": {},
          "execution_count": 16
        }
      ]
    },
    {
      "cell_type": "markdown",
      "source": [
        "### endswith()\n",
        "The endswith() returns true if it ends with the desired suffix"
      ],
      "metadata": {
        "id": "ByGuwZYziB1F"
      }
    },
    {
      "cell_type": "code",
      "source": [
        "a = \"Data Science\""
      ],
      "metadata": {
        "id": "5qrdQHb3iY34"
      },
      "execution_count": null,
      "outputs": []
    },
    {
      "cell_type": "code",
      "source": [
        "a.endswith(\"Sicence\")"
      ],
      "metadata": {
        "colab": {
          "base_uri": "https://localhost:8080/"
        },
        "id": "d94TlQn3iaiP",
        "outputId": "aa082894-0af4-4e04-feee-a2d94fa50e19"
      },
      "execution_count": null,
      "outputs": [
        {
          "output_type": "execute_result",
          "data": {
            "text/plain": [
              "False"
            ]
          },
          "metadata": {},
          "execution_count": 17
        }
      ]
    }
  ]
}