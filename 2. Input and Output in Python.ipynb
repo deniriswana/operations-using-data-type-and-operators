{
  "nbformat": 4,
  "nbformat_minor": 0,
  "metadata": {
    "colab": {
      "name": "2. Input and Output in Python.ipynb",
      "provenance": [],
      "collapsed_sections": []
    },
    "kernelspec": {
      "name": "python3",
      "display_name": "Python 3"
    },
    "language_info": {
      "name": "python"
    }
  },
  "cells": [
    {
      "cell_type": "markdown",
      "source": [
        "# Input and Output"
      ],
      "metadata": {
        "id": "UtqKLmVKSi3d"
      }
    },
    {
      "cell_type": "markdown",
      "source": [
        "###Variabel\n",
        "- A Python variable is a reserved memory location to store values. In other words\n",
        "- Every value in Python has a datatype. Different data types in Python are Numbers, List, Tuple, Strings, Dictionary, Boolean, etc"
      ],
      "metadata": {
        "id": "5EiKxHTNht2m"
      }
    },
    {
      "cell_type": "code",
      "execution_count": null,
      "metadata": {
        "id": "DCSVAVRggn9O"
      },
      "outputs": [],
      "source": [
        "ab = 20"
      ]
    },
    {
      "cell_type": "code",
      "source": [
        "rum_value = 5.0"
      ],
      "metadata": {
        "id": "AKBODZKOiBZJ"
      },
      "execution_count": null,
      "outputs": []
    },
    {
      "cell_type": "code",
      "source": [
        "stats = \"Delivered on Time\""
      ],
      "metadata": {
        "id": "FK9nxWC2iFmE"
      },
      "execution_count": null,
      "outputs": []
    },
    {
      "cell_type": "markdown",
      "source": [
        "###Print\n",
        "\n",
        "print() function can be used to print a message onto the screen."
      ],
      "metadata": {
        "id": "ekff56esiTcc"
      }
    },
    {
      "cell_type": "code",
      "source": [
        "print(\"What is your name?\")"
      ],
      "metadata": {
        "colab": {
          "base_uri": "https://localhost:8080/"
        },
        "id": "f5PsY4osjDzw",
        "outputId": "b73207d2-55f8-4ab9-e345-615ed378be3f"
      },
      "execution_count": null,
      "outputs": [
        {
          "output_type": "stream",
          "name": "stdout",
          "text": [
            "What is your name?\n"
          ]
        }
      ]
    },
    {
      "cell_type": "markdown",
      "source": [
        "###How to insert the value of variable in string\n",
        "\n",
        "There are several ways to enter a variable value in a string:\n",
        "1. Directly concatenate variables in the print() statement."
      ],
      "metadata": {
        "id": "Lfe_9NMvjMlt"
      }
    },
    {
      "cell_type": "code",
      "source": [
        "X = 3\n",
        "type(X)"
      ],
      "metadata": {
        "colab": {
          "base_uri": "https://localhost:8080/"
        },
        "id": "XxcAbSW7kg6u",
        "outputId": "95ac6e7b-67b7-4f71-d79c-e10228d5d783"
      },
      "execution_count": null,
      "outputs": [
        {
          "output_type": "execute_result",
          "data": {
            "text/plain": [
              "int"
            ]
          },
          "metadata": {},
          "execution_count": 9
        }
      ]
    },
    {
      "cell_type": "code",
      "source": [
        "print(\"The value of X is\", X)"
      ],
      "metadata": {
        "colab": {
          "base_uri": "https://localhost:8080/"
        },
        "id": "bcZEnjmRkpvG",
        "outputId": "279be431-a47f-43c1-bfa4-5ef108f8f495"
      },
      "execution_count": null,
      "outputs": [
        {
          "output_type": "stream",
          "name": "stdout",
          "text": [
            "The value of X is 3\n"
          ]
        }
      ]
    },
    {
      "cell_type": "markdown",
      "source": [
        "2. To display text (string), you can use a format string."
      ],
      "metadata": {
        "id": "MWq_dHkFrPP8"
      }
    },
    {
      "cell_type": "code",
      "source": [
        "print(\"My ID card number is {}\".format(\"112233\"))"
      ],
      "metadata": {
        "colab": {
          "base_uri": "https://localhost:8080/"
        },
        "id": "PMfygjvWrXRg",
        "outputId": "085d8eff-c941-4fd3-9da4-e7ad189786ec"
      },
      "execution_count": null,
      "outputs": [
        {
          "output_type": "stream",
          "name": "stdout",
          "text": [
            "My ID card number is 112233\n"
          ]
        }
      ]
    },
    {
      "cell_type": "markdown",
      "source": [
        "3. Using operator \"%\" added with \"argument specifiers\".\n",
        "\n",
        "  Some examples of commonly used argument specifiers:\n",
        "\n",
        "  - %s - String\n",
        "  - %d - Integers\n",
        "  - %f - Decimal Number"
      ],
      "metadata": {
        "id": "1u81HSuCsR8X"
      }
    },
    {
      "cell_type": "code",
      "source": [
        "Name = \"Zachary Eisen\""
      ],
      "metadata": {
        "id": "41vLUS6isft1"
      },
      "execution_count": null,
      "outputs": []
    },
    {
      "cell_type": "code",
      "source": [
        "Age = 25"
      ],
      "metadata": {
        "id": "gk2oC0_0srtQ"
      },
      "execution_count": null,
      "outputs": []
    },
    {
      "cell_type": "code",
      "source": [
        "print(\"The age of %s is %d years old\" % (Name, Age))"
      ],
      "metadata": {
        "colab": {
          "base_uri": "https://localhost:8080/"
        },
        "id": "epK-fLXfswdF",
        "outputId": "21cc88bd-0b91-4fee-816e-e17dd66b8042"
      },
      "execution_count": null,
      "outputs": [
        {
          "output_type": "stream",
          "name": "stdout",
          "text": [
            "The age of Zachary Eisen is 25 years old\n"
          ]
        }
      ]
    },
    {
      "cell_type": "markdown",
      "source": [
        "### input()\n",
        "input() function is used to take user input. By default, it returns the user input in form of a string. \n",
        "\n",
        "By default, the input from the user is a string."
      ],
      "metadata": {
        "id": "HmhOZBcftFVX"
      }
    },
    {
      "cell_type": "code",
      "source": [
        "code = input(\"Enter your Team Name:\")"
      ],
      "metadata": {
        "colab": {
          "base_uri": "https://localhost:8080/"
        },
        "id": "mZBmviect4Ow",
        "outputId": "26d25230-3e83-4a5e-ba16-eeca261d6e2e"
      },
      "execution_count": null,
      "outputs": [
        {
          "name": "stdout",
          "output_type": "stream",
          "text": [
            "Enter your name:Comment Team\n"
          ]
        }
      ]
    }
  ]
}