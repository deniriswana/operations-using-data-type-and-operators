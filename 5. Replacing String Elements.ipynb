{
  "nbformat": 4,
  "nbformat_minor": 0,
  "metadata": {
    "colab": {
      "name": "5. Replacing String Elements.ipynb",
      "provenance": [],
      "collapsed_sections": [],
      "authorship_tag": "ABX9TyOc6hSGDq8Mp+rFOn2T27+q"
    },
    "kernelspec": {
      "name": "python3",
      "display_name": "Python 3"
    },
    "language_info": {
      "name": "python"
    }
  },
  "cells": [
    {
      "cell_type": "markdown",
      "source": [
        "### replace() \n",
        "Returns a string in the condition that the substring has been replaced with the parameter entered"
      ],
      "metadata": {
        "id": "vjCbeIsekXbt"
      }
    },
    {
      "cell_type": "code",
      "source": [
        "a = \"Dad is reading a book\""
      ],
      "metadata": {
        "id": "bPyVK7QPkzRX"
      },
      "execution_count": null,
      "outputs": []
    },
    {
      "cell_type": "code",
      "source": [
        "print(a.replace(\"book\",\"newspaper\"))"
      ],
      "metadata": {
        "colab": {
          "base_uri": "https://localhost:8080/"
        },
        "id": "U8vCaHiok4p3",
        "outputId": "2de0abc6-129e-4c76-eecb-a107513ee2d3"
      },
      "execution_count": null,
      "outputs": [
        {
          "output_type": "stream",
          "name": "stdout",
          "text": [
            "Dad is reading a newspaper\n"
          ]
        }
      ]
    },
    {
      "cell_type": "markdown",
      "source": [
        "The third parameter in replace can be filled with the number of substrings that you want to replace. All words will be replaced if not using a substring"
      ],
      "metadata": {
        "id": "CbDH-1JxlAlc"
      }
    },
    {
      "cell_type": "code",
      "source": [
        "a = \"Dad is reading a book, a very good book\""
      ],
      "metadata": {
        "id": "vCwjWJ8alH2S"
      },
      "execution_count": null,
      "outputs": []
    },
    {
      "cell_type": "code",
      "source": [
        "print(a.replace(\"book\",\"newspaper\", 1))"
      ],
      "metadata": {
        "colab": {
          "base_uri": "https://localhost:8080/"
        },
        "id": "MGBU3wwzlRZj",
        "outputId": "a2174213-6f2e-4bec-8f97-3202c3293f1f"
      },
      "execution_count": null,
      "outputs": [
        {
          "output_type": "stream",
          "name": "stdout",
          "text": [
            "Dad is reading a newspaper, a very good book\n"
          ]
        }
      ]
    },
    {
      "cell_type": "code",
      "source": [
        "a = \"Dad is reading a book, a very good book\""
      ],
      "metadata": {
        "id": "yUTNYw1MmJ7o"
      },
      "execution_count": null,
      "outputs": []
    },
    {
      "cell_type": "code",
      "source": [
        "print(a.replace(\"book\",\"newspaper\"))"
      ],
      "metadata": {
        "colab": {
          "base_uri": "https://localhost:8080/"
        },
        "id": "13j0RLKOmUO8",
        "outputId": "ddf85820-6cd8-4bc1-abf0-a2b971517030"
      },
      "execution_count": null,
      "outputs": [
        {
          "output_type": "stream",
          "name": "stdout",
          "text": [
            "Dad is reading a newspaper, a very good newspaper\n"
          ]
        }
      ]
    }
  ]
}