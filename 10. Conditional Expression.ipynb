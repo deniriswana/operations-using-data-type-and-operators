{
  "nbformat": 4,
  "nbformat_minor": 0,
  "metadata": {
    "colab": {
      "name": "10. Conditional Expression.ipynb",
      "provenance": [],
      "authorship_tag": "ABX9TyNz3UJCwp5IK1U28H4WUoLS"
    },
    "kernelspec": {
      "name": "python3",
      "display_name": "Python 3"
    },
    "language_info": {
      "name": "python"
    }
  },
  "cells": [
    {
      "cell_type": "markdown",
      "source": [
        "## Conditional Expression\n",
        "### If\n",
        "- In python the expression is placed after the if and the decision is based on the truth value of the expression\n",
        "- If the expression evaluates to True, the statement block will be executed\n",
        "- By convention, this block is indented after the dot\n",
        "- If the expression evaluates to false, then the next block (after the if) will be executed"
      ],
      "metadata": {
        "id": "Zl8qWr_8UHu3"
      }
    },
    {
      "cell_type": "code",
      "source": [
        "name = \"Deni Riswana\"\n",
        "if name:\n",
        "  print(\"Your name is right {}\" .format(name))"
      ],
      "metadata": {
        "colab": {
          "base_uri": "https://localhost:8080/"
        },
        "id": "9R4wEwuuUp8p",
        "outputId": "ee4da8ff-9a2f-466a-ca32-4e0541f2831c"
      },
      "execution_count": null,
      "outputs": [
        {
          "output_type": "stream",
          "name": "stdout",
          "text": [
            "Your name is right Deni Riswana\n"
          ]
        }
      ]
    },
    {
      "cell_type": "markdown",
      "source": [
        "### else\n",
        "- Can be combined with if statement, as a way out when the IF condition is false\n",
        "- Else is optional and singular"
      ],
      "metadata": {
        "id": "jk_APIr-Vmyj"
      }
    },
    {
      "cell_type": "code",
      "execution_count": null,
      "metadata": {
        "colab": {
          "base_uri": "https://localhost:8080/"
        },
        "id": "ffhWJHyGT9iB",
        "outputId": "e65974eb-a30e-4342-ebee-542a2b4310e4"
      },
      "outputs": [
        {
          "output_type": "stream",
          "name": "stdout",
          "text": [
            "Deni Riswana\n",
            "Your are a priority member\n"
          ]
        }
      ],
      "source": [
        "name = \"Deni Riswana\"\n",
        "if name == input():\n",
        "  print(\"Your are a priority member\")\n",
        "else:\n",
        "  print(\"Your are not a priority member\")"
      ]
    },
    {
      "cell_type": "code",
      "source": [
        "usia = int(input(\"Insert your age: \"))\n",
        "if  20 < usia < 23:\n",
        "  print (\"You are qualified\")\n",
        "else:\n",
        "  print (\"You are not qualified\")"
      ],
      "metadata": {
        "colab": {
          "base_uri": "https://localhost:8080/"
        },
        "id": "BzsKAniJV1cJ",
        "outputId": "51ebf81d-30ea-42a7-f82f-8cf390c6f74b"
      },
      "execution_count": null,
      "outputs": [
        {
          "output_type": "stream",
          "name": "stdout",
          "text": [
            "Insert your age: 21\n",
            "You are qualified\n"
          ]
        }
      ]
    },
    {
      "cell_type": "markdown",
      "source": [
        "### Elif\n",
        "- Elif is short for else if\n",
        "- Elif is an alternative to nested if\n",
        "- An IF statement can be executed for one or more elif statements (optional and not restricted)\n"
      ],
      "metadata": {
        "id": "SFqjmw9LWYnL"
      }
    },
    {
      "cell_type": "code",
      "source": [
        "nilai = int(input(\"Insert your score: \"))\n",
        "\n",
        "if nilai >= 80:\n",
        "  print(\"Your grade is A\")\n",
        "elif nilai >= 70:\n",
        "  print(\"Your grade is B\")\n",
        "else:\n",
        "  print(\"Your grade is c\")"
      ],
      "metadata": {
        "colab": {
          "base_uri": "https://localhost:8080/"
        },
        "id": "C9h4pLuvWo-4",
        "outputId": "51e42fd0-301e-4a6c-d000-e58336fdb8d9"
      },
      "execution_count": null,
      "outputs": [
        {
          "output_type": "stream",
          "name": "stdout",
          "text": [
            "Insert your score: 82\n",
            "Your grade is A\n"
          ]
        }
      ]
    }
  ]
}